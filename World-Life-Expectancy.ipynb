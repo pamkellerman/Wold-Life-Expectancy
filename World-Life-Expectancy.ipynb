{
 "cells": [
  {
   "cell_type": "code",
   "execution_count": 1,
   "id": "649511ac",
   "metadata": {},
   "outputs": [],
   "source": [
    "import pandas as pd\n",
    "import matplotlib.pyplot as plt\n",
    "import seaborn as sns\n",
    "import numpy as np\n",
    "\n",
    "df = pd.read_csv(\"world-data-2023.csv\")"
   ]
  },
  {
   "cell_type": "code",
   "execution_count": 2,
   "id": "f57b826a",
   "metadata": {},
   "outputs": [
    {
     "name": "stdout",
     "output_type": "stream",
     "text": [
      "<class 'pandas.core.frame.DataFrame'>\n",
      "RangeIndex: 195 entries, 0 to 194\n",
      "Data columns (total 35 columns):\n",
      " #   Column                                     Non-Null Count  Dtype  \n",
      "---  ------                                     --------------  -----  \n",
      " 0   Country                                    195 non-null    object \n",
      " 1   Density\n",
      "(P/Km2)                            195 non-null    object \n",
      " 2   Abbreviation                               188 non-null    object \n",
      " 3   Agricultural Land( %)                      188 non-null    object \n",
      " 4   Land Area(Km2)                             194 non-null    object \n",
      " 5   Armed Forces size                          171 non-null    object \n",
      " 6   Birth Rate                                 189 non-null    float64\n",
      " 7   Calling Code                               194 non-null    float64\n",
      " 8   Capital/Major City                         192 non-null    object \n",
      " 9   Co2-Emissions                              188 non-null    object \n",
      " 10  CPI                                        178 non-null    object \n",
      " 11  CPI Change (%)                             179 non-null    object \n",
      " 12  Currency-Code                              180 non-null    object \n",
      " 13  Fertility Rate                             188 non-null    float64\n",
      " 14  Forested Area (%)                          188 non-null    object \n",
      " 15  Gasoline Price                             175 non-null    object \n",
      " 16  GDP                                        193 non-null    object \n",
      " 17  Gross primary education enrollment (%)     188 non-null    object \n",
      " 18  Gross tertiary education enrollment (%)    183 non-null    object \n",
      " 19  Infant mortality                           189 non-null    float64\n",
      " 20  Largest city                               189 non-null    object \n",
      " 21  Life expectancy                            187 non-null    float64\n",
      " 22  Maternal mortality ratio                   181 non-null    float64\n",
      " 23  Minimum wage                               150 non-null    object \n",
      " 24  Official language                          194 non-null    object \n",
      " 25  Out of pocket health expenditure           188 non-null    object \n",
      " 26  Physicians per thousand                    188 non-null    float64\n",
      " 27  Population                                 194 non-null    object \n",
      " 28  Population: Labor force participation (%)  176 non-null    object \n",
      " 29  Tax revenue (%)                            169 non-null    object \n",
      " 30  Total tax rate                             183 non-null    object \n",
      " 31  Unemployment rate                          176 non-null    object \n",
      " 32  Urban_population                           190 non-null    object \n",
      " 33  Latitude                                   194 non-null    float64\n",
      " 34  Longitude                                  194 non-null    float64\n",
      "dtypes: float64(9), object(26)\n",
      "memory usage: 53.4+ KB\n"
     ]
    }
   ],
   "source": [
    "df.info()"
   ]
  },
  {
   "cell_type": "code",
   "execution_count": null,
   "id": "4c3c1f63",
   "metadata": {},
   "outputs": [],
   "source": []
  }
 ],
 "metadata": {
  "kernelspec": {
   "display_name": "Python 3 (ipykernel)",
   "language": "python",
   "name": "python3"
  },
  "language_info": {
   "codemirror_mode": {
    "name": "ipython",
    "version": 3
   },
   "file_extension": ".py",
   "mimetype": "text/x-python",
   "name": "python",
   "nbconvert_exporter": "python",
   "pygments_lexer": "ipython3",
   "version": "3.10.9"
  }
 },
 "nbformat": 4,
 "nbformat_minor": 5
}
